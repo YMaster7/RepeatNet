{
  "cells": [
    {
      "cell_type": "code",
      "execution_count": 1,
      "metadata": {},
      "outputs": [],
      "source": [
        "!mkdir -p data/raw\n",
        "!rm -rf data/raw/*\n",
        "!mkdir -p data/MMTD"
      ]
    },
    {
      "cell_type": "code",
      "execution_count": 2,
      "metadata": {
        "colab": {
          "base_uri": "https://localhost:8080/"
        },
        "id": "NqlHWIpziKLm",
        "outputId": "09310dc2-6a86-44b4-c53d-07e87f6876b0"
      },
      "outputs": [
        {
          "name": "stdout",
          "output_type": "stream",
          "text": [
            "Archive:  MMTD.zip\n",
            "  inflating: data/raw/MMTD/dev.csv   \n",
            "  inflating: data/raw/MMTD/test.csv  \n",
            "  inflating: data/raw/MMTD/train.csv  \n"
          ]
        }
      ],
      "source": [
        "!unzip MMTD.zip -d data/raw"
      ]
    },
    {
      "cell_type": "code",
      "execution_count": 3,
      "metadata": {},
      "outputs": [],
      "source": [
        "%load_ext tensorboard"
      ]
    },
    {
      "cell_type": "code",
      "execution_count": 41,
      "metadata": {
        "id": "YyUjDK3_jI7_"
      },
      "outputs": [],
      "source": [
        "import pandas as pd\n",
        "import os\n",
        "import math\n",
        "from torch.utils.tensorboard import SummaryWriter\n",
        "from tqdm import tqdm\n",
        "from torch.utils.data import Dataset, DataLoader\n",
        "import csv\n",
        "import torch\n",
        "import torch.nn as nn\n",
        "import torch.nn.functional as F\n",
        "import numpy as np\n",
        "import ast\n",
        "from datetime import datetime\n",
        "import json\n",
        "import seaborn as sns"
      ]
    },
    {
      "cell_type": "markdown",
      "metadata": {
        "id": "R2B9VY9RlIHI"
      },
      "source": [
        "## Preprocess"
      ]
    },
    {
      "cell_type": "code",
      "execution_count": 5,
      "metadata": {
        "id": "1Sa4IkpZjdL9"
      },
      "outputs": [],
      "source": [
        "data_dir = 'data'\n",
        "dataset_name = 'MMTD'"
      ]
    },
    {
      "cell_type": "code",
      "execution_count": 6,
      "metadata": {
        "id": "jx12tldkkQJz"
      },
      "outputs": [],
      "source": [
        "raw_dir = os.path.join(data_dir, 'raw', dataset_name)\n",
        "\n",
        "train = pd.read_csv(os.path.join(raw_dir, 'train.csv'), sep='\\t')\n",
        "dev = pd.read_csv(os.path.join(raw_dir, 'dev.csv'), sep='\\t')\n",
        "test = pd.read_csv(os.path.join(raw_dir, 'test.csv'), sep='\\t')"
      ]
    },
    {
      "cell_type": "code",
      "execution_count": 7,
      "metadata": {
        "id": "HvrjM_CEk0w3"
      },
      "outputs": [],
      "source": [
        "train.item_id += 1\n",
        "dev.item_id += 1\n",
        "test.item_id += 1"
      ]
    },
    {
      "cell_type": "code",
      "execution_count": 8,
      "metadata": {
        "colab": {
          "base_uri": "https://localhost:8080/"
        },
        "id": "Ldo_TJXuk2ba",
        "outputId": "cb8e7f6e-5bc6-4768-8ced-6a41686c4392"
      },
      "outputs": [
        {
          "data": {
            "text/plain": [
              "(1, 12815)"
            ]
          },
          "execution_count": 8,
          "metadata": {},
          "output_type": "execute_result"
        }
      ],
      "source": [
        "low, high = 999, 0\n",
        "low = min(low, train.item_id.min())\n",
        "low = min(low, dev.item_id.min())\n",
        "low = min(low, test.item_id.min())\n",
        "high = max(high, train.item_id.max())\n",
        "high = max(high, dev.item_id.max())\n",
        "high = max(high, test.item_id.max())\n",
        "low, high"
      ]
    },
    {
      "cell_type": "code",
      "execution_count": 9,
      "metadata": {
        "colab": {
          "base_uri": "https://localhost:8080/"
        },
        "id": "HEo8RngMk543",
        "outputId": "faaee83e-b7b4-4a43-8604-e96506905cd8"
      },
      "outputs": [
        {
          "data": {
            "text/plain": [
              "True"
            ]
          },
          "execution_count": 9,
          "metadata": {},
          "output_type": "execute_result"
        }
      ],
      "source": [
        "train.groupby('user_id').time.apply(lambda x: x.is_monotonic_increasing).all()"
      ]
    },
    {
      "cell_type": "code",
      "execution_count": 10,
      "metadata": {
        "id": "HR0qU_xElBoC"
      },
      "outputs": [],
      "source": [
        "item_seq = train.groupby('user_id').agg({'item_id': lambda x: list(x)})"
      ]
    },
    {
      "cell_type": "code",
      "execution_count": 11,
      "metadata": {
        "id": "jbQdLoJ_k-D8"
      },
      "outputs": [],
      "source": [
        "user_seq = {}\n",
        "max_len = 0\n",
        "for user_id, row in item_seq.iterrows():\n",
        "    user_seq[user_id] = row['item_id']\n",
        "    max_len = max(max_len, len(row['item_id']) + 2)\n",
        "\n",
        "for row in dev.itertuples():\n",
        "    user_seq[row.user_id].append(row.item_id)\n",
        "\n",
        "for row in test.itertuples():\n",
        "    user_seq[row.user_id].append(row.item_id)"
      ]
    },
    {
      "cell_type": "code",
      "execution_count": 12,
      "metadata": {
        "colab": {
          "base_uri": "https://localhost:8080/"
        },
        "id": "9dHWVItFk-CI",
        "outputId": "de0cf605-3cb5-4b3d-d87b-0f5c5c2152ac"
      },
      "outputs": [
        {
          "data": {
            "text/plain": [
              "count    10150.000000\n",
              "mean        25.252709\n",
              "std         32.558665\n",
              "min         10.000000\n",
              "25%         12.000000\n",
              "50%         16.000000\n",
              "75%         25.000000\n",
              "max        500.000000\n",
              "dtype: float64"
            ]
          },
          "execution_count": 12,
          "metadata": {},
          "output_type": "execute_result"
        }
      ],
      "source": [
        "pd.Series([len(seq) for seq in user_seq.values()]).describe()"
      ]
    },
    {
      "cell_type": "code",
      "execution_count": 13,
      "metadata": {},
      "outputs": [],
      "source": [
        "final_data_dir = os.path.join(data_dir, dataset_name)"
      ]
    },
    {
      "cell_type": "code",
      "execution_count": 14,
      "metadata": {
        "id": "CaJZf7julEz9"
      },
      "outputs": [],
      "source": [
        "def format(seq):\n",
        "    p_len = max_len - len(seq)\n",
        "    padding = [0] * p_len\n",
        "    return f'{seq[:-1] + padding}|[{seq[-1]}]\\n'\n",
        "\n",
        "with open(os.path.join(final_data_dir, 'train.csv'), 'w') as f:\n",
        "    for seq in user_seq.values():\n",
        "        end = len(seq) - 2\n",
        "        sample_num = end - 1\n",
        "        for i in range(sample_num):\n",
        "            f.write(format(seq[:end - i]))\n",
        "\n",
        "with open(os.path.join(final_data_dir, 'dev.csv'), 'w') as f:\n",
        "    for seq in user_seq.values():\n",
        "        end = len(seq) - 1\n",
        "        f.write(format(seq[:end]))\n",
        "\n",
        "with open(os.path.join(final_data_dir, 'test.csv'), 'w') as f:\n",
        "    for seq in user_seq.values():\n",
        "        end = len(seq)\n",
        "        f.write(format(seq[:end]))"
      ]
    },
    {
      "cell_type": "markdown",
      "metadata": {
        "id": "He99oX39mS7A"
      },
      "source": [
        "## Dataset"
      ]
    },
    {
      "cell_type": "code",
      "execution_count": 15,
      "metadata": {
        "id": "nMYmnNkMmudW"
      },
      "outputs": [],
      "source": [
        "class RepeatNetDataset(Dataset):\n",
        "    def __init__(self, sample_file):\n",
        "        super(RepeatNetDataset, self).__init__()\n",
        "\n",
        "        self.sample_file=sample_file\n",
        "\n",
        "        self.item_atts=dict()\n",
        "        self.samples=[]\n",
        "        self.load()\n",
        "\n",
        "    def load(self):\n",
        "        clean = lambda l: [int(x) for x in l.strip('[]').split(',')]\n",
        "\n",
        "        id=0\n",
        "        with open(self.sample_file) as f:\n",
        "            csv_reader = csv.reader(f, delimiter='|')\n",
        "            for row in csv_reader:\n",
        "                id+=1\n",
        "                self.samples.append([torch.tensor([id]), torch.tensor(clean(row[0])), torch.tensor(clean(row[1]))])\n",
        "\n",
        "        self.len=len(self.samples)\n",
        "        print('data size: ', self.len)\n",
        "\n",
        "    def __getitem__(self, index):\n",
        "        it = self.samples[index]\n",
        "        return it\n",
        "\n",
        "    def __len__(self):\n",
        "        return self.len\n",
        "\n",
        "def collate_fn(data):\n",
        "    id, item_seq, item_tgt = zip(*data)\n",
        "\n",
        "    return {\n",
        "            'id': torch.cat(id),\n",
        "            'item_seq': torch.stack(item_seq),\n",
        "            'item_tgt': torch.stack(item_tgt)\n",
        "            }"
      ]
    },
    {
      "cell_type": "markdown",
      "metadata": {
        "id": "p70-bT7bm8mF"
      },
      "source": [
        "## Model"
      ]
    },
    {
      "cell_type": "code",
      "execution_count": 16,
      "metadata": {
        "id": "q9IZXCpTm9pK"
      },
      "outputs": [],
      "source": [
        "class Attention(nn.Module):\n",
        "    def __init__(self, query_size, key_size, hidden_size):\n",
        "        super().__init__()\n",
        "        self.linear_key = nn.Linear(key_size, hidden_size, bias=False)\n",
        "        self.linear_query = nn.Linear(query_size, hidden_size, bias=True)\n",
        "        self.v = nn.Linear(hidden_size, 1, bias=False)\n",
        "        self.hidden_size=hidden_size\n",
        "\n",
        "    def score(self, query, key, softmax_dim=-1, mask=None):\n",
        "        attn=self.matching(query, key, mask)\n",
        "\n",
        "        norm_attn = F.softmax(attn, dim=softmax_dim)\n",
        "\n",
        "        if mask is not None:\n",
        "            norm_attn = norm_attn.masked_fill(~mask, 0)\n",
        "\n",
        "        return attn, norm_attn\n",
        "\n",
        "\n",
        "    def matching(self, query, key, mask=None):\n",
        "        '''\n",
        "        :param query: [batch_size, *, query_seq_len, query_size]\n",
        "        :param key: [batch_size, *, key_seq_len, key_size]\n",
        "        :param mask: [batch_size, *, query_seq_len, key_seq_len]\n",
        "        :return: [batch_size, *, query_seq_len, key_seq_len]\n",
        "        '''\n",
        "        wq = self.linear_query(query)\n",
        "        wq = wq.unsqueeze(-2)\n",
        "\n",
        "        uh = self.linear_key(key)\n",
        "        uh = uh.unsqueeze(-3)\n",
        "\n",
        "        wuc = wq + uh\n",
        "\n",
        "        wquh = torch.tanh(wuc)\n",
        "\n",
        "        attn = self.v(wquh).squeeze(-1)\n",
        "\n",
        "        if mask is not None:\n",
        "            attn = attn.masked_fill(~mask, -float('inf'))\n",
        "\n",
        "        return attn\n",
        "\n",
        "    def forward(self, query, key, value, mask=None):\n",
        "        '''\n",
        "        :param query: [batch_size, *, query_seq_len, query_size]\n",
        "        :param key: [batch_size, *, key_seq_len, key_size]\n",
        "        :param value: [batch_size, *, value_seq_len=key_seq_len, value_size]\n",
        "        :param mask: [batch_size, *, query_seq_len, key_seq_len]\n",
        "        :return: [batch_size, *, query_seq_len, value_size]\n",
        "        '''\n",
        "\n",
        "        attn, norm_attn = self.score(query, key, mask=mask)\n",
        "        h = torch.bmm(norm_attn.view(-1, norm_attn.size(-2), norm_attn.size(-1)), value.view(-1, value.size(-2), value.size(-1)))\n",
        "\n",
        "        return h.view(list(value.size())[:-2]+[norm_attn.size(-2), -1]), attn, norm_attn"
      ]
    },
    {
      "cell_type": "code",
      "execution_count": 17,
      "metadata": {
        "id": "mzUtLfBXnPfh"
      },
      "outputs": [],
      "source": [
        "def gru_forward(gru, input, lengths, state=None, batch_first=True):\n",
        "    gru.flatten_parameters()\n",
        "    input_lengths, perm = torch.sort(lengths, descending=True)\n",
        "    input_lengths = input_lengths.cpu()\n",
        "\n",
        "    input = input[perm]\n",
        "    if state is not None:\n",
        "        state = state[perm].transpose(0, 1).contiguous()\n",
        "\n",
        "    total_length=input.size(1)\n",
        "    if not batch_first:\n",
        "        input = input.transpose(0, 1)  # B x L x N -> L x B x N\n",
        "    packed = torch.nn.utils.rnn.pack_padded_sequence(input, input_lengths, batch_first)\n",
        "\n",
        "    outputs, state = gru(packed, state)\n",
        "    outputs, output_lengths = torch.nn.utils.rnn.pad_packed_sequence(outputs, batch_first=batch_first, total_length=total_length)  # unpack (back to padded)\n",
        "\n",
        "    _, perm = torch.sort(perm, descending=False)\n",
        "    if not batch_first:\n",
        "        outputs = outputs.transpose(0, 1)\n",
        "    outputs=outputs[perm]\n",
        "    state = state.transpose(0, 1)[perm]\n",
        "\n",
        "    return outputs, state\n",
        "\n",
        "def build_map(b_map, max=None):\n",
        "    batch_size, b_len = b_map.size()\n",
        "    if max is None:\n",
        "        max=b_map.max() + 1\n",
        "    if torch.cuda.is_available():\n",
        "        b_map_ = torch.cuda.FloatTensor(batch_size, b_len, max).fill_(0)\n",
        "    else:\n",
        "        b_map_ = torch.zeros(batch_size, b_len, max)\n",
        "    b_map_.scatter_(2, b_map.unsqueeze(2), 1.)\n",
        "    # b_map_[:, :, 0] = 0.\n",
        "    b_map_.requires_grad=False\n",
        "    return b_map_\n",
        "\n",
        "class RepeatNet(nn.Module):\n",
        "    def __init__(self, embedding_size, hidden_size, item_vocab_size, dropout_p, explore_mask):\n",
        "        super(RepeatNet, self).__init__()\n",
        "\n",
        "        self.embedding_size=embedding_size\n",
        "        self.hidden_size=hidden_size\n",
        "        self.item_vocab_size=item_vocab_size\n",
        "        self.dropout_p=dropout_p\n",
        "        self.explore_mask=explore_mask\n",
        "\n",
        "        self.item_emb = nn.Embedding(item_vocab_size, embedding_size, padding_idx=0)\n",
        "\n",
        "        self.enc = nn.GRU(embedding_size, int(hidden_size / 2), num_layers=1, bidirectional=True, batch_first=True)\n",
        "\n",
        "        self.mode_attn = Attention(hidden_size, hidden_size, hidden_size)\n",
        "        self.mode=nn.Linear(hidden_size, 2)\n",
        "\n",
        "        self.repeat_attn = Attention(hidden_size, hidden_size, hidden_size)\n",
        "        self.explore_attn = Attention(hidden_size, hidden_size, hidden_size)\n",
        "        self.explore = nn.Linear(hidden_size, item_vocab_size)\n",
        "\n",
        "    def model(self, data):\n",
        "        batch_size=data['item_seq'].size(0)\n",
        "        mask = data['item_seq'].ne(0)\n",
        "        lengths = mask.float().sum(dim=-1).long()\n",
        "\n",
        "        item_seq_embs = F.dropout(self.item_emb(data['item_seq']), p=self.dropout_p, training=self.training)\n",
        "\n",
        "        output, state = gru_forward(self.enc, item_seq_embs, lengths, batch_first=True)\n",
        "        state = F.dropout(state, p=self.dropout_p, training=self.training)\n",
        "        output = F.dropout(output, p=self.dropout_p, training=self.training)\n",
        "\n",
        "        explore_feature, attn, norm_attn = self.explore_attn(state.reshape(batch_size, -1).unsqueeze(1), output, output, mask=mask.unsqueeze(1))\n",
        "        p_explore = self.explore(explore_feature.squeeze(1))\n",
        "        explore_mask=torch.bmm((data['item_seq']>0).float().unsqueeze(1), data['source_map']).squeeze(1)\n",
        "        if self.explore_mask:\n",
        "            p_explore = p_explore.masked_fill(explore_mask.bool(), float('-inf')) # not sure we need to mask this out, depends on experiment results\n",
        "        p_explore = F.softmax(p_explore, dim=-1)\n",
        "\n",
        "        _, p_repeat = self.repeat_attn.score(state.reshape(batch_size, -1).unsqueeze(1), output, mask=mask.unsqueeze(1))\n",
        "        p_repeat=torch.bmm(p_repeat, data['source_map']).squeeze(1)\n",
        "\n",
        "        mode_feature, attn, norm_attn = self.mode_attn(state.reshape(batch_size, -1).unsqueeze(1), output, output, mask=mask.unsqueeze(1))\n",
        "        p_mode=F.softmax(self.mode(mode_feature.squeeze(1)), dim=-1)\n",
        "\n",
        "        p = p_mode[:, 0].unsqueeze(-1)*p_explore + p_mode[:, 1].unsqueeze(-1)*p_repeat\n",
        "\n",
        "        return p\n",
        "\n",
        "    def forward(self, data):\n",
        "        data['source_map'] = build_map(data['item_seq'], max=self.item_vocab_size)\n",
        "        return self.model(data)"
      ]
    },
    {
      "cell_type": "markdown",
      "metadata": {
        "id": "7hdxdnQ2o1e3"
      },
      "source": [
        "## Training"
      ]
    },
    {
      "cell_type": "code",
      "execution_count": 18,
      "metadata": {
        "id": "6-GgdX7Zp2NX"
      },
      "outputs": [],
      "source": [
        "def init_seed(seed):\n",
        "    torch.backends.cudnn.benchmark = True\n",
        "    torch.backends.cudnn.deterministic = True\n",
        "\n",
        "    np.random.seed(seed)\n",
        "    torch.manual_seed(seed)\n",
        "    if torch.cuda.is_available():\n",
        "        torch.cuda.manual_seed_all(seed)"
      ]
    },
    {
      "cell_type": "code",
      "execution_count": 19,
      "metadata": {
        "id": "x-4ZpyMLo2dd"
      },
      "outputs": [],
      "source": [
        "device = 'cuda' if torch.cuda.is_available() else 'cpu'\n",
        "params = {\n",
        "    'seed': 230506526,\n",
        "    'n_epochs': 300,\n",
        "    'batch_size': 512,\n",
        "    'lr': 1e-3,\n",
        "    'early_stop': 15,\n",
        "    'embedding_size': 100,\n",
        "    'hidden_size': 100,\n",
        "    'item_vocab_size': 12815 + 1,\n",
        "    'dropout_p': 0.3,\n",
        "    'explore_mask': False,\n",
        "}"
      ]
    },
    {
      "cell_type": "code",
      "execution_count": 69,
      "metadata": {
        "colab": {
          "base_uri": "https://localhost:8080/"
        },
        "id": "bryBUmHXrNRj",
        "outputId": "44206775-bbf3-43df-ff30-a40b37452bff"
      },
      "outputs": [
        {
          "name": "stdout",
          "output_type": "stream",
          "text": [
            "data size:  225865\n",
            "data size:  10150\n"
          ]
        }
      ],
      "source": [
        "init_seed(params['seed'])\n",
        "\n",
        "train_dataset = RepeatNetDataset(os.path.join(final_data_dir, 'train.csv'))\n",
        "valid_dataset = RepeatNetDataset(os.path.join(final_data_dir, 'dev.csv'))\n",
        "\n",
        "train_loader = DataLoader(train_dataset, collate_fn=collate_fn, batch_size=params['batch_size'], shuffle=True, pin_memory=True)\n",
        "valid_loader = DataLoader(valid_dataset, collate_fn=collate_fn, batch_size=params['batch_size'], shuffle=False, pin_memory=True)"
      ]
    },
    {
      "cell_type": "code",
      "execution_count": 20,
      "metadata": {},
      "outputs": [],
      "source": [
        "model = RepeatNet(\n",
        "    params['embedding_size'],\n",
        "    params['hidden_size'],\n",
        "    params['item_vocab_size'],\n",
        "    params['dropout_p'],\n",
        "    params['explore_mask'],\n",
        ").to(device)\n",
        "criterion = torch.nn.NLLLoss(ignore_index=0)\n",
        "optimizer = torch.optim.Adam(model.parameters(), lr=params['lr'])\n",
        "scheduler = torch.optim.lr_scheduler.ReduceLROnPlateau(optimizer, mode='min', factor=0.5, patience=5, verbose=True)"
      ]
    },
    {
      "cell_type": "code",
      "execution_count": 71,
      "metadata": {
        "colab": {
          "base_uri": "https://localhost:8080/"
        },
        "id": "hYfdwhzXvgfm",
        "outputId": "176bfd33-f73e-48ed-ef0d-d65bad3103e1"
      },
      "outputs": [
        {
          "name": "stderr",
          "output_type": "stream",
          "text": [
            "[Epoch 0 | Loss 8.1585]: 100%|██████████| 442/442 [01:02<00:00,  7.12it/s]\n"
          ]
        },
        {
          "name": "stdout",
          "output_type": "stream",
          "text": [
            "Epoch 0 | Train Loss 8.1585 | Valid Loss 8.2128 | Time 1 min 3 s\n"
          ]
        },
        {
          "name": "stderr",
          "output_type": "stream",
          "text": [
            "[Epoch 1 | Loss 7.8782]: 100%|██████████| 442/442 [01:00<00:00,  7.29it/s]\n"
          ]
        },
        {
          "name": "stdout",
          "output_type": "stream",
          "text": [
            "Epoch 1 | Train Loss 7.8782 | Valid Loss 8.0358 | Time 1 min 2 s\n"
          ]
        },
        {
          "name": "stderr",
          "output_type": "stream",
          "text": [
            "[Epoch 2 | Loss 7.6464]: 100%|██████████| 442/442 [01:00<00:00,  7.28it/s]\n"
          ]
        },
        {
          "name": "stdout",
          "output_type": "stream",
          "text": [
            "Epoch 2 | Train Loss 7.6464 | Valid Loss 7.8814 | Time 1 min 2 s\n"
          ]
        },
        {
          "name": "stderr",
          "output_type": "stream",
          "text": [
            "[Epoch 3 | Loss 7.4802]: 100%|██████████| 442/442 [01:00<00:00,  7.30it/s]\n"
          ]
        },
        {
          "name": "stdout",
          "output_type": "stream",
          "text": [
            "Epoch 3 | Train Loss 7.4802 | Valid Loss 7.8135 | Time 1 min 2 s\n"
          ]
        },
        {
          "name": "stderr",
          "output_type": "stream",
          "text": [
            "[Epoch 4 | Loss 7.3551]: 100%|██████████| 442/442 [01:00<00:00,  7.30it/s]\n"
          ]
        },
        {
          "name": "stdout",
          "output_type": "stream",
          "text": [
            "Epoch 4 | Train Loss 7.3551 | Valid Loss 7.7563 | Time 1 min 2 s\n"
          ]
        },
        {
          "name": "stderr",
          "output_type": "stream",
          "text": [
            "[Epoch 5 | Loss 7.2412]: 100%|██████████| 442/442 [01:00<00:00,  7.30it/s]\n"
          ]
        },
        {
          "name": "stdout",
          "output_type": "stream",
          "text": [
            "Epoch 5 | Train Loss 7.2412 | Valid Loss 7.7376 | Time 1 min 2 s\n"
          ]
        },
        {
          "name": "stderr",
          "output_type": "stream",
          "text": [
            "[Epoch 6 | Loss 7.1396]: 100%|██████████| 442/442 [01:00<00:00,  7.29it/s]\n"
          ]
        },
        {
          "name": "stdout",
          "output_type": "stream",
          "text": [
            "Epoch 6 | Train Loss 7.1396 | Valid Loss 7.7161 | Time 1 min 2 s\n"
          ]
        },
        {
          "name": "stderr",
          "output_type": "stream",
          "text": [
            "[Epoch 7 | Loss 7.0472]: 100%|██████████| 442/442 [01:00<00:00,  7.28it/s]\n"
          ]
        },
        {
          "name": "stdout",
          "output_type": "stream",
          "text": [
            "Epoch 7 | Train Loss 7.0472 | Valid Loss 7.7051 | Time 1 min 2 s\n"
          ]
        },
        {
          "name": "stderr",
          "output_type": "stream",
          "text": [
            "[Epoch 8 | Loss 6.9605]: 100%|██████████| 442/442 [01:00<00:00,  7.29it/s]\n"
          ]
        },
        {
          "name": "stdout",
          "output_type": "stream",
          "text": [
            "Epoch 8 | Train Loss 6.9605 | Valid Loss 7.6932 | Time 1 min 2 s\n"
          ]
        },
        {
          "name": "stderr",
          "output_type": "stream",
          "text": [
            "[Epoch 9 | Loss 6.8796]: 100%|██████████| 442/442 [01:00<00:00,  7.29it/s]\n"
          ]
        },
        {
          "name": "stdout",
          "output_type": "stream",
          "text": [
            "Epoch 9 | Train Loss 6.8796 | Valid Loss 7.7025 | Time 1 min 2 s\n"
          ]
        },
        {
          "name": "stderr",
          "output_type": "stream",
          "text": [
            "[Epoch 10 | Loss 6.8066]: 100%|██████████| 442/442 [01:00<00:00,  7.29it/s]\n"
          ]
        },
        {
          "name": "stdout",
          "output_type": "stream",
          "text": [
            "Epoch 10 | Train Loss 6.8066 | Valid Loss 7.7004 | Time 1 min 2 s\n"
          ]
        },
        {
          "name": "stderr",
          "output_type": "stream",
          "text": [
            "[Epoch 11 | Loss 6.7381]: 100%|██████████| 442/442 [01:00<00:00,  7.28it/s]\n"
          ]
        },
        {
          "name": "stdout",
          "output_type": "stream",
          "text": [
            "Epoch 11 | Train Loss 6.7381 | Valid Loss 7.7145 | Time 1 min 2 s\n"
          ]
        },
        {
          "name": "stderr",
          "output_type": "stream",
          "text": [
            "[Epoch 12 | Loss 6.6717]: 100%|██████████| 442/442 [01:00<00:00,  7.29it/s]\n"
          ]
        },
        {
          "name": "stdout",
          "output_type": "stream",
          "text": [
            "Epoch 12 | Train Loss 6.6717 | Valid Loss 7.7046 | Time 1 min 2 s\n"
          ]
        },
        {
          "name": "stderr",
          "output_type": "stream",
          "text": [
            "[Epoch 13 | Loss 6.6084]: 100%|██████████| 442/442 [01:00<00:00,  7.29it/s]\n"
          ]
        },
        {
          "name": "stdout",
          "output_type": "stream",
          "text": [
            "Epoch 13 | Train Loss 6.6084 | Valid Loss 7.7242 | Time 1 min 2 s\n"
          ]
        },
        {
          "name": "stderr",
          "output_type": "stream",
          "text": [
            "[Epoch 14 | Loss 6.5480]: 100%|██████████| 442/442 [01:00<00:00,  7.29it/s]\n"
          ]
        },
        {
          "name": "stdout",
          "output_type": "stream",
          "text": [
            "Epoch 14 | Train Loss 6.5480 | Valid Loss 7.7395 | Time 1 min 2 s\n",
            "Epoch 00015: reducing learning rate of group 0 to 5.0000e-04.\n"
          ]
        },
        {
          "name": "stderr",
          "output_type": "stream",
          "text": [
            "[Epoch 15 | Loss 6.4567]: 100%|██████████| 442/442 [01:00<00:00,  7.29it/s]\n"
          ]
        },
        {
          "name": "stdout",
          "output_type": "stream",
          "text": [
            "Epoch 15 | Train Loss 6.4567 | Valid Loss 7.7464 | Time 1 min 2 s\n"
          ]
        },
        {
          "name": "stderr",
          "output_type": "stream",
          "text": [
            "[Epoch 16 | Loss 6.4232]: 100%|██████████| 442/442 [01:00<00:00,  7.29it/s]\n"
          ]
        },
        {
          "name": "stdout",
          "output_type": "stream",
          "text": [
            "Epoch 16 | Train Loss 6.4232 | Valid Loss 7.7550 | Time 1 min 2 s\n"
          ]
        },
        {
          "name": "stderr",
          "output_type": "stream",
          "text": [
            "[Epoch 17 | Loss 6.3974]: 100%|██████████| 442/442 [01:00<00:00,  7.28it/s]\n"
          ]
        },
        {
          "name": "stdout",
          "output_type": "stream",
          "text": [
            "Epoch 17 | Train Loss 6.3974 | Valid Loss 7.7586 | Time 1 min 2 s\n"
          ]
        },
        {
          "name": "stderr",
          "output_type": "stream",
          "text": [
            "[Epoch 18 | Loss 6.3678]: 100%|██████████| 442/442 [01:00<00:00,  7.29it/s]\n"
          ]
        },
        {
          "name": "stdout",
          "output_type": "stream",
          "text": [
            "Epoch 18 | Train Loss 6.3678 | Valid Loss 7.7736 | Time 1 min 2 s\n"
          ]
        },
        {
          "name": "stderr",
          "output_type": "stream",
          "text": [
            "[Epoch 19 | Loss 6.3411]: 100%|██████████| 442/442 [01:00<00:00,  7.29it/s]\n"
          ]
        },
        {
          "name": "stdout",
          "output_type": "stream",
          "text": [
            "Epoch 19 | Train Loss 6.3411 | Valid Loss 7.7805 | Time 1 min 2 s\n"
          ]
        },
        {
          "name": "stderr",
          "output_type": "stream",
          "text": [
            "[Epoch 20 | Loss 6.3146]: 100%|██████████| 442/442 [01:00<00:00,  7.29it/s]\n"
          ]
        },
        {
          "name": "stdout",
          "output_type": "stream",
          "text": [
            "Epoch 20 | Train Loss 6.3146 | Valid Loss 7.7906 | Time 1 min 2 s\n",
            "Epoch 00021: reducing learning rate of group 0 to 2.5000e-04.\n"
          ]
        },
        {
          "name": "stderr",
          "output_type": "stream",
          "text": [
            "[Epoch 21 | Loss 6.2697]: 100%|██████████| 442/442 [01:00<00:00,  7.29it/s]\n"
          ]
        },
        {
          "name": "stdout",
          "output_type": "stream",
          "text": [
            "Epoch 21 | Train Loss 6.2697 | Valid Loss 7.7966 | Time 1 min 2 s\n"
          ]
        },
        {
          "name": "stderr",
          "output_type": "stream",
          "text": [
            "[Epoch 22 | Loss 6.2556]: 100%|██████████| 442/442 [01:00<00:00,  7.29it/s]\n"
          ]
        },
        {
          "name": "stdout",
          "output_type": "stream",
          "text": [
            "Epoch 22 | Train Loss 6.2556 | Valid Loss 7.7999 | Time 1 min 2 s\n"
          ]
        },
        {
          "name": "stderr",
          "output_type": "stream",
          "text": [
            "[Epoch 23 | Loss 6.2435]: 100%|██████████| 442/442 [01:00<00:00,  7.30it/s]\n"
          ]
        },
        {
          "name": "stdout",
          "output_type": "stream",
          "text": [
            "Epoch 23 | Train Loss 6.2435 | Valid Loss 7.8008 | Time 1 min 2 s\n",
            "\n",
            "Model is not improving, early stopping.\n"
          ]
        }
      ],
      "source": [
        "writer = SummaryWriter()\n",
        "now = datetime.now().strftime('%Y-%m-%d_%H-%M')\n",
        "\n",
        "os.makedirs(f'models/{now}', exist_ok=True)\n",
        "\n",
        "with open(f'models/{now}/params.json', 'w') as f:\n",
        "    json.dump(params, f)\n",
        "\n",
        "n_epochs, best_loss, early_stop_count = params['n_epochs'], math.inf, 0\n",
        "\n",
        "for ep in range(n_epochs):\n",
        "    model.train()\n",
        "    loss_record = []\n",
        "    \n",
        "    train_pbar = tqdm(train_loader)\n",
        "    for data in train_pbar:\n",
        "        optimizer.zero_grad()\n",
        "        data = {k: v.to(device) if isinstance(v, torch.Tensor) else v for k, v in data.items()}\n",
        "        y = data['item_tgt']\n",
        "        y_pred = model(data)\n",
        "        loss = criterion((y_pred + 1e-8).log(), y.reshape(-1))\n",
        "        loss.backward()\n",
        "        optimizer.step()\n",
        "        loss_record.append(loss.detach().item())\n",
        "        \n",
        "        train_pbar.set_description(f'[Epoch {ep} | Loss {np.mean(loss_record):.4f}]')\n",
        "    \n",
        "    mean_train_loss = np.mean(loss_record)\n",
        "    writer.add_scalar('Loss/train', mean_train_loss, ep)\n",
        "    \n",
        "    model.eval()\n",
        "    loss_record = []\n",
        "    for data in valid_loader:\n",
        "        data = {k: v.to(device) if isinstance(v, torch.Tensor) else v for k, v in data.items()}\n",
        "        y = data['item_tgt']\n",
        "        with torch.no_grad():\n",
        "            y_pred = model(data)\n",
        "            loss = criterion((y_pred + 1e-8).log(), y.reshape(-1))\n",
        "            loss_record.append(loss.detach().item())\n",
        "    \n",
        "    mean_valid_loss = np.mean(loss_record)\n",
        "    writer.add_scalar('Loss/valid', mean_valid_loss, ep)\n",
        "    \n",
        "    elapsed = train_pbar.format_dict['elapsed']\n",
        "    elapsed_str = f'{elapsed // 60:.0f} min {elapsed % 60:.0f} s'\n",
        "    print(f'Epoch {ep} | Train Loss {mean_train_loss:.4f} | Valid Loss {mean_valid_loss:.4f} | Time {elapsed_str}')\n",
        "    \n",
        "    torch.save(model.state_dict(), f'models/{now}/repeatnet_{ep}.pth')\n",
        "    \n",
        "    scheduler.step(mean_valid_loss)\n",
        "    \n",
        "    if mean_valid_loss < best_loss:\n",
        "        best_loss = mean_valid_loss\n",
        "        early_stop_count = 0\n",
        "    else:\n",
        "        early_stop_count += 1\n",
        "    if early_stop_count >= params['early_stop']:\n",
        "        print('\\nModel is not improving, early stopping.')\n",
        "        break"
      ]
    },
    {
      "attachments": {},
      "cell_type": "markdown",
      "metadata": {},
      "source": [
        "## Validation"
      ]
    },
    {
      "cell_type": "code",
      "execution_count": 36,
      "metadata": {},
      "outputs": [],
      "source": [
        "os.makedirs(f'valid/{now}', exist_ok=True)"
      ]
    },
    {
      "cell_type": "code",
      "execution_count": 37,
      "metadata": {},
      "outputs": [
        {
          "name": "stdout",
          "output_type": "stream",
          "text": [
            "data size:  10150\n"
          ]
        },
        {
          "name": "stderr",
          "output_type": "stream",
          "text": [
            "                                                           \r"
          ]
        }
      ],
      "source": [
        "neg_items = test['neg_items'].apply(ast.literal_eval)\n",
        "\n",
        "def predict(test_loader, model, device, epoch):\n",
        "    model.eval()\n",
        "    preds = []\n",
        "    for i, data in enumerate(tqdm(test_loader, leave=False, desc=f'Epoch {epoch}')):\n",
        "        data = {k: v.to(device) if isinstance(v, torch.Tensor) else v for k, v in data.items()}                       \n",
        "        with torch.no_grad():                   \n",
        "            scores = model(data)\n",
        "            y = data['item_tgt']\n",
        "            for j, (score, tgt) in enumerate(zip(scores, y)):\n",
        "                pos = i * valid2_batch_size + j\n",
        "                neg_item = neg_items[pos]\n",
        "                tgt_score = score[tgt].cpu().numpy().tolist()\n",
        "                score = score[neg_item].cpu().numpy().tolist()\n",
        "                preds.append(tgt_score + score)\n",
        "    return preds\n",
        "\n",
        "def save_preds(preds, file):\n",
        "    with open(file, 'w') as f:\n",
        "        for scores in preds:\n",
        "            f.write(f'{scores}\\n')\n",
        "\n",
        "valid2_dataset = RepeatNetDataset(os.path.join(final_data_dir, 'dev.csv'))\n",
        "valid2_batch_size = 50\n",
        "valid2_loader = DataLoader(valid2_dataset, collate_fn=collate_fn, batch_size=valid2_batch_size, shuffle=False, pin_memory=True)\n",
        "\n",
        "for ep in range(n_epochs):\n",
        "    model_filename = f'models/{now}/repeatnet_{ep}.pth'\n",
        "    if not os.path.exists(model_filename):\n",
        "        break\n",
        "    model.load_state_dict(torch.load(model_filename))\n",
        "    preds = predict(valid2_loader, model, device, ep)\n",
        "    save_preds(preds, f'valid/{now}/repeatnet_{ep}.txt')"
      ]
    },
    {
      "cell_type": "code",
      "execution_count": 38,
      "metadata": {},
      "outputs": [],
      "source": [
        "def metric_at_k(ground_truth, recommendations, k):\n",
        "    for i, x in enumerate(recommendations[:k]):\n",
        "        if x == ground_truth:\n",
        "            rank = i + 1\n",
        "            recall = 1\n",
        "            mrr = 1 / rank\n",
        "            ndcg = np.log2(2) / np.log2(rank + 1)\n",
        "            return rank, recall, mrr, ndcg\n",
        "    return 0, 0, 0, 0\n",
        "\n",
        "def evaluate_prediction(filename, ns):\n",
        "    '''\n",
        "    evaluate the prediction with Recall@n, MRR@n, and NDCG@n\n",
        "    '''\n",
        "    ns.sort()\n",
        "    n_max = ns[-1]\n",
        "    \n",
        "    recall_acc = {n: 0 for n in ns}\n",
        "    mrr_acc = {n: 0 for n in ns}\n",
        "    ndcg_acc = {n: 0 for n in ns}\n",
        "    num = 0\n",
        "    with open(filename, 'r') as f:\n",
        "        for line in f:\n",
        "            lst = ast.literal_eval(line)\n",
        "            gt = lst[0]\n",
        "            rec = sorted(lst, reverse=True)\n",
        "            rank, recall, mrr, ndcg = metric_at_k(gt, rec, n_max)\n",
        "            num += 1\n",
        "            \n",
        "            for n in ns:\n",
        "                if rank <= n:\n",
        "                    recall_acc[n] += recall\n",
        "                    mrr_acc[n] += mrr\n",
        "                    ndcg_acc[n] += ndcg\n",
        "    \n",
        "    for n in ns:\n",
        "        recall_acc[n] /= num\n",
        "        mrr_acc[n] /= num\n",
        "        ndcg_acc[n] /= num\n",
        "    \n",
        "    return recall_acc, mrr_acc, ndcg_acc\n",
        "\n",
        "def eval_run(run_name):\n",
        "    '''\n",
        "    evaluate the prediction of a run with regard to Recall@1\n",
        "    '''\n",
        "    ep = 0\n",
        "    recall_record = []\n",
        "    while True:\n",
        "        if not os.path.exists(f'valid/{run_name}/repeatnet_{ep}.txt'):\n",
        "            break\n",
        "        filename = f'valid/{run_name}/repeatnet_{ep}.txt'\n",
        "        recall, _, _ = evaluate_prediction(filename, [1])\n",
        "        recall_record.append(recall[1])\n",
        "        ep += 1\n",
        "    print(f'Run [{run_name}] has best Recall@1 = {max(recall_record)} at epoch {np.argmax(recall_record)}')\n",
        "    return recall_record"
      ]
    },
    {
      "cell_type": "code",
      "execution_count": 39,
      "metadata": {},
      "outputs": [
        {
          "name": "stdout",
          "output_type": "stream",
          "text": [
            "Run [2023-05-07_18-13] has best Recall@1 = 0.318128078817734 at epoch 13\n",
            "Run [2023-05-07_15-22] has best Recall@1 = 0.3112315270935961 at epoch 115\n"
          ]
        }
      ],
      "source": [
        "runs = os.listdir('models')\n",
        "run_recalls = {}\n",
        "for run in runs:\n",
        "    recall_record = eval_run(run)\n",
        "    run_recalls[run] = recall_record"
      ]
    },
    {
      "cell_type": "code",
      "execution_count": 42,
      "metadata": {},
      "outputs": [
        {
          "data": {
            "image/png": "[encoded data removed]",
            "text/plain": [
              "<Figure size 640x480 with 1 Axes>"
            ]
          },
          "metadata": {},
          "output_type": "display_data"
        }
      ],
      "source": [
        "for run in runs:\n",
        "    sns.lineplot(x=range(len(run_recalls[run])), y=run_recalls[run], label=run)"
      ]
    },
    {
      "cell_type": "markdown",
      "metadata": {},
      "source": [
        "## Testing"
      ]
    },
    {
      "cell_type": "code",
      "execution_count": 43,
      "metadata": {},
      "outputs": [],
      "source": [
        "os.makedirs(f'preds', exist_ok=True)"
      ]
    },
    {
      "cell_type": "code",
      "execution_count": 44,
      "metadata": {},
      "outputs": [
        {
          "name": "stdout",
          "output_type": "stream",
          "text": [
            "data size:  10150\n"
          ]
        },
        {
          "name": "stderr",
          "output_type": "stream",
          "text": [
            "                                                           \r"
          ]
        }
      ],
      "source": [
        "test_dataset = RepeatNetDataset(os.path.join(final_data_dir, 'test.csv'))\n",
        "test_batch_size = 50\n",
        "test_loader = DataLoader(test_dataset, collate_fn=collate_fn, batch_size=test_batch_size, shuffle=False, pin_memory=True)\n",
        "\n",
        "best_run = '2023-05-07_18-13'\n",
        "best_epoch = 13\n",
        "\n",
        "model.load_state_dict(torch.load(f'models/{best_run}/repeatnet_{best_epoch}.pth'))\n",
        "preds = predict(test_loader, model, device, best_epoch)\n",
        "save_preds(preds, f'preds/repeatnet_{best_run}_ep{best_epoch}.txt')"
      ]
    },
    {
      "cell_type": "code",
      "execution_count": 45,
      "metadata": {},
      "outputs": [
        {
          "name": "stdout",
          "output_type": "stream",
          "text": [
            "metric       mrr      ndcg    recall\n",
            "k                                   \n",
            "1       0.295764  0.295764  0.295764\n",
            "5       0.382169  0.419897  0.534089\n",
            "10      0.398358  0.459121  0.655369\n",
            "20      0.407424  0.492266  0.786700\n"
          ]
        },
        {
          "data": {
            "text/plain": [
              "<Axes: xlabel='k', ylabel='value'>"
            ]
          },
          "execution_count": 45,
          "metadata": {},
          "output_type": "execute_result"
        },
        {
          "data": {
            "image/png": "[encoded data removed]",
            "text/plain": [
              "<Figure size 640x480 with 1 Axes>"
            ]
          },
          "metadata": {},
          "output_type": "display_data"
        }
      ],
      "source": [
        "data = {\n",
        "    'k': [],\n",
        "    'metric': [],\n",
        "    'value': [],\n",
        "}\n",
        "\n",
        "ns = [1, 5, 10, 20]\n",
        "recall, mrr, ndcg = evaluate_prediction(f'preds/repeatnet_{best_run}_ep{best_epoch}.txt', ns=ns)\n",
        "for n in ns:\n",
        "    data['k'].append(n)\n",
        "    data['metric'].append('recall')\n",
        "    data['value'].append(recall[n])\n",
        "    data['k'].append(n)\n",
        "    data['metric'].append('mrr')\n",
        "    data['value'].append(mrr[n])\n",
        "    data['k'].append(n)\n",
        "    data['metric'].append('ndcg')\n",
        "    data['value'].append(ndcg[n])\n",
        "\n",
        "df = pd.DataFrame(data)\n",
        "print(df.pivot(index='k', columns='metric', values='value'))\n",
        "sns.barplot(x='k', y='value', hue='metric', data=df)"
      ]
    }
  ],
  "metadata": {
    "accelerator": "GPU",
    "colab": {
      "gpuType": "T4",
      "provenance": [],
      "toc_visible": true
    },
    "gpuClass": "standard",
    "kernelspec": {
      "display_name": "Python 3",
      "name": "python3"
    },
    "language_info": {
      "codemirror_mode": {
        "name": "ipython",
        "version": 3
      },
      "file_extension": ".py",
      "mimetype": "text/x-python",
      "name": "python",
      "nbconvert_exporter": "python",
      "pygments_lexer": "ipython3",
      "version": "3.9.16"
    }
  },
  "nbformat": 4,
  "nbformat_minor": 0
}
